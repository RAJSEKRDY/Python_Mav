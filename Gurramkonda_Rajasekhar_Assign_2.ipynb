{
  "nbformat": 4,
  "nbformat_minor": 0,
  "metadata": {
    "colab": {
      "provenance": [],
      "authorship_tag": "ABX9TyO5o8p9BWtNuZheWPBVLC3l",
      "include_colab_link": true
    },
    "kernelspec": {
      "name": "python3",
      "display_name": "Python 3"
    },
    "language_info": {
      "name": "python"
    }
  },
  "cells": [
    {
      "cell_type": "markdown",
      "metadata": {
        "id": "view-in-github",
        "colab_type": "text"
      },
      "source": [
        "<a href=\"https://colab.research.google.com/github/RAJSEKRDY/Python_Mav/blob/main/Gurramkonda_Rajasekhar_Assign_2.ipynb\" target=\"_parent\"><img src=\"https://colab.research.google.com/assets/colab-badge.svg\" alt=\"Open In Colab\"/></a>"
      ]
    },
    {
      "cell_type": "markdown",
      "source": [
        "##PB1_EASY"
      ],
      "metadata": {
        "id": "G6FwHsFQRFPm"
      }
    },
    {
      "cell_type": "code",
      "source": [
        "\n",
        "file_names = ['view.jpg', 'bear.jpg', 'ball.png']\n",
        "\n",
        "# Add 'phone.jpg' to the beginning\n",
        "file_names.insert(0, 'phone.jpg')\n",
        "\n",
        "# Remove 'ball.png'\n",
        "file_names.remove('ball.png')\n",
        "\n",
        "# Print the updated list\n",
        "print(file_names)\n"
      ],
      "metadata": {
        "colab": {
          "base_uri": "https://localhost:8080/"
        },
        "id": "Yk-o9CdhRAee",
        "outputId": "2f35ca93-ca0a-4754-bac0-1af9ddcdace9"
      },
      "execution_count": 1,
      "outputs": [
        {
          "output_type": "stream",
          "name": "stdout",
          "text": [
            "['phone.jpg', 'view.jpg', 'bear.jpg']\n"
          ]
        }
      ]
    },
    {
      "cell_type": "markdown",
      "source": [
        "##PB2_EASY\n"
      ],
      "metadata": {
        "id": "3FuxXU1_RPqo"
      }
    },
    {
      "cell_type": "code",
      "source": [
        "\n",
        "L = [1, 2, 3, 4, 5, 6, 7, 8, 9, 10]\n",
        "\n",
        "# Initialize variables\n",
        "maximum = L[0]\n",
        "minimum = L[0]\n",
        "total = 0\n",
        "\n",
        "# Iterate over the list\n",
        "for num in L:\n",
        "    # Update maximum if necessary\n",
        "    if num > maximum:\n",
        "        maximum = num\n",
        "    # Update minimum if necessary\n",
        "    if num < minimum:\n",
        "        minimum = num\n",
        "    # Calculate sum for average\n",
        "    total += num\n",
        "# Calculate average\n",
        "average = total / len(L)\n",
        "# Print the results\n",
        "print(\"Maximum:\", maximum)\n",
        "print(\"Minimum:\", minimum)\n",
        "print(\"Average:\", average)\n"
      ],
      "metadata": {
        "colab": {
          "base_uri": "https://localhost:8080/"
        },
        "id": "HPe3LzvrRuy5",
        "outputId": "b69fe4e7-3267-4678-aa9b-fee182ff237c"
      },
      "execution_count": 2,
      "outputs": [
        {
          "output_type": "stream",
          "name": "stdout",
          "text": [
            "Maximum: 10\n",
            "Minimum: 1\n",
            "Average: 5.5\n"
          ]
        }
      ]
    },
    {
      "cell_type": "markdown",
      "source": [
        "##PB1_MEDIUM"
      ],
      "metadata": {
        "id": "p13qHeR5RzvK"
      }
    },
    {
      "cell_type": "code",
      "source": [
        "\n",
        "lst = [1, 1, 1, 1, 2, 2, 3, 3, 3, 3, 3, 4, 5]\n",
        "\n",
        "# Initialize an empty list to store unique elements\n",
        "unique_elements = []\n",
        "\n",
        "# Iterate over the list\n",
        "for num in lst:\n",
        "    # Check if the element is already in unique_elements\n",
        "    if num not in unique_elements:\n",
        "        # Add the element to unique_elements if it's not already present\n",
        "        unique_elements.append(num)\n",
        "\n",
        "# Print the unique elements\n",
        "for num in unique_elements:\n",
        "    print(num)\n"
      ],
      "metadata": {
        "colab": {
          "base_uri": "https://localhost:8080/"
        },
        "id": "QR63VVMOR8P4",
        "outputId": "a0fef083-bb01-48e7-8b6f-865b2e99c264"
      },
      "execution_count": 3,
      "outputs": [
        {
          "output_type": "stream",
          "name": "stdout",
          "text": [
            "1\n",
            "2\n",
            "3\n",
            "4\n",
            "5\n"
          ]
        }
      ]
    },
    {
      "cell_type": "markdown",
      "source": [
        "##PB2_MEDIUM"
      ],
      "metadata": {
        "id": "1aYUQx1nSQww"
      }
    },
    {
      "cell_type": "code",
      "source": [
        "\n",
        "L = [1, 2, 3, 4, [4, 3]]\n",
        "given_number = 3\n",
        "\n",
        "# Iterate over the list\n",
        "for element in L:\n",
        "    # Check if the element is a list\n",
        "    if isinstance(element, list):\n",
        "        # Iterate over the inner list\n",
        "        for inner_element in element:\n",
        "            # Check if the given number exists in the inner list\n",
        "            if inner_element == given_number:\n",
        "                print(\"Number exists in the inner list.\")\n",
        "                break  # Exit the loop if found\n",
        "    else:\n",
        "        # If the element is not a list, compare it directly with the given number\n",
        "        if element == given_number:\n",
        "            print(\"Number exists in the list.\")\n",
        "            break  # Exit the loop if found\n",
        "else:\n",
        "    print(\"Number does not exist in the list.\")\n"
      ],
      "metadata": {
        "colab": {
          "base_uri": "https://localhost:8080/"
        },
        "id": "ZhLfSUK4SUFl",
        "outputId": "09427432-cc2a-4ec7-b96b-661fb03c483e"
      },
      "execution_count": 4,
      "outputs": [
        {
          "output_type": "stream",
          "name": "stdout",
          "text": [
            "Number exists in the list.\n"
          ]
        }
      ]
    },
    {
      "cell_type": "markdown",
      "source": [
        "##PB1_HARD"
      ],
      "metadata": {
        "id": "h78f_s2YSrfX"
      }
    },
    {
      "cell_type": "code",
      "source": [
        "\n",
        "numbers_nested = [[1, -1, 2], [0, -5, 3, 5, -2], [1, 2, 1, 0, -2, -3]]\n",
        "\n",
        "# Extract positive numbers from each nested list\n",
        "positive_numbers = [num for sublist in numbers_nested for num in sublist if num > 0]\n",
        "\n",
        "# Print the new list of positive numbers\n",
        "print(positive_numbers)\n"
      ],
      "metadata": {
        "colab": {
          "base_uri": "https://localhost:8080/"
        },
        "id": "ZA71uldsSt1T",
        "outputId": "643050ff-892b-40e1-abce-e7876a4deb79"
      },
      "execution_count": 5,
      "outputs": [
        {
          "output_type": "stream",
          "name": "stdout",
          "text": [
            "[1, 2, 3, 5, 1, 2, 1]\n"
          ]
        }
      ]
    },
    {
      "cell_type": "markdown",
      "source": [
        "##PB2_HARD"
      ],
      "metadata": {
        "id": "hoZIn98XSzh-"
      }
    },
    {
      "cell_type": "code",
      "source": [
        "\n",
        "L = [[1, 2, 3], [4, 5, 6, 3], [-1, -2, -10, 5, 8]]\n",
        "\n",
        "averages = []  # Store the averages of each inner list\n",
        "\n",
        "# Iterate over the inner lists\n",
        "for sublist in L:\n",
        "    sublist_sum = sum(sublist)  # Calculate the sum of values in the inner list\n",
        "    sublist_average = sublist_sum / len(sublist)  # Calculate the average of the inner list\n",
        "    averages.append(sublist_average)  # Add the average to the averages list\n",
        "\n",
        "sum_of_averages = sum(averages)  # Calculate the sum of averages\n",
        "\n",
        "# Print the average of each inner list and the sum of averages\n",
        "for i, average in enumerate(averages):\n",
        "    print(\"Average of inner list\", i+1, \":\", average)\n",
        "\n",
        "print(\"Sum of averages:\", sum_of_averages)\n"
      ],
      "metadata": {
        "colab": {
          "base_uri": "https://localhost:8080/"
        },
        "id": "5x1KrBz9S1vO",
        "outputId": "06fc582e-d942-41c0-8323-286162e5ff4b"
      },
      "execution_count": 6,
      "outputs": [
        {
          "output_type": "stream",
          "name": "stdout",
          "text": [
            "Average of inner list 1 : 2.0\n",
            "Average of inner list 2 : 4.5\n",
            "Average of inner list 3 : 0.0\n",
            "Sum of averages: 6.5\n"
          ]
        }
      ]
    }
  ]
}