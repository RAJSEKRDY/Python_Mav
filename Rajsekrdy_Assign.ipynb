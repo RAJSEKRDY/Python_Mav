{
  "nbformat": 4,
  "nbformat_minor": 0,
  "metadata": {
    "colab": {
      "provenance": [],
      "authorship_tag": "ABX9TyM3ApmQ3QUyrDFo9pXIUjxi",
      "include_colab_link": true
    },
    "kernelspec": {
      "name": "python3",
      "display_name": "Python 3"
    },
    "language_info": {
      "name": "python"
    }
  },
  "cells": [
    {
      "cell_type": "markdown",
      "metadata": {
        "id": "view-in-github",
        "colab_type": "text"
      },
      "source": [
        "<a href=\"https://colab.research.google.com/github/RAJSEKRDY/Python_Mav/blob/main/Rajsekrdy_Assign.ipynb\" target=\"_parent\"><img src=\"https://colab.research.google.com/assets/colab-badge.svg\" alt=\"Open In Colab\"/></a>"
      ]
    },
    {
      "cell_type": "markdown",
      "source": [
        "**M1A01/A02/AO3**"
      ],
      "metadata": {
        "id": "tyTpLc65NjSr"
      }
    },
    {
      "cell_type": "markdown",
      "source": [
        "**M1A01**_Problem statement 01"
      ],
      "metadata": {
        "id": "L0l8Pa9vOSTQ"
      }
    },
    {
      "cell_type": "markdown",
      "source": [
        "**1.For each multiple of 3,print 'Fizz'**"
      ],
      "metadata": {
        "id": "0bYo6igxMpGj"
      }
    },
    {
      "cell_type": "code",
      "execution_count": null,
      "metadata": {
        "colab": {
          "base_uri": "https://localhost:8080/"
        },
        "id": "LfsVDlv1MA_z",
        "outputId": "15896cda-a9e0-45e7-b144-00b6b06111cd"
      },
      "outputs": [
        {
          "output_type": "stream",
          "name": "stdout",
          "text": [
            "Enter an integer: 10\n",
            "1\n",
            "2\n",
            "Fizz\n",
            "4\n",
            "5\n",
            "Fizz\n",
            "7\n",
            "8\n",
            "Fizz\n",
            "10\n"
          ]
        }
      ],
      "source": [
        "number = int(input(\"Enter an integer: \"))\n",
        "\n",
        "for i in range(1, number+1):\n",
        "    if i % 3 == 0:\n",
        "        print(\"Fizz\")\n",
        "    else:\n",
        "        print(i)\n"
      ]
    },
    {
      "cell_type": "markdown",
      "source": [
        "**2.For each multiple of 5,print ‘Fuzz’**"
      ],
      "metadata": {
        "id": "dZv0QYDLM2eV"
      }
    },
    {
      "cell_type": "code",
      "source": [
        "number = int(input(\"Enter an integer: \"))\n",
        "\n",
        "for i in range(1, number+1):\n",
        "    if i % 5 == 0:\n",
        "        print(\"Fuzz\")\n",
        "    else:\n",
        "        print(i)\n",
        "\n"
      ],
      "metadata": {
        "colab": {
          "base_uri": "https://localhost:8080/"
        },
        "id": "mxPJcXTlM8nU",
        "outputId": "e3497f43-41dc-4400-96cc-4981c5f5a07c"
      },
      "execution_count": null,
      "outputs": [
        {
          "output_type": "stream",
          "name": "stdout",
          "text": [
            "Enter an integer: 10\n",
            "1\n",
            "2\n",
            "3\n",
            "4\n",
            "Fuzz\n",
            "6\n",
            "7\n",
            "8\n",
            "9\n",
            "Fuzz\n"
          ]
        }
      ]
    },
    {
      "cell_type": "markdown",
      "source": [
        "**3. For each multiple of 3 and 5 print ‘Fizz Buzz’**\n"
      ],
      "metadata": {
        "id": "8tOXY1NcNI87"
      }
    },
    {
      "cell_type": "code",
      "source": [
        "number = int(input(\"Enter an integer: \"))\n",
        "\n",
        "for i in range(1, number+1):\n",
        "    if i % 3 == 0 and i % 5 == 0:\n",
        "        print(\"Fizz Buzz\")\n",
        "    elif i % 3 == 0:\n",
        "        print(\"Fizz\")\n",
        "    elif i % 5 == 0:\n",
        "        print(\"Buzz\")\n",
        "    else:\n",
        "        print(i)\n"
      ],
      "metadata": {
        "colab": {
          "base_uri": "https://localhost:8080/"
        },
        "id": "OLBm-eTbNSpf",
        "outputId": "5342a739-1af4-41b5-87a3-a84b6ed09daa"
      },
      "execution_count": null,
      "outputs": [
        {
          "output_type": "stream",
          "name": "stdout",
          "text": [
            "Enter an integer: 15\n",
            "1\n",
            "2\n",
            "Fizz\n",
            "4\n",
            "Buzz\n",
            "Fizz\n",
            "7\n",
            "8\n",
            "Fizz\n",
            "Buzz\n",
            "11\n",
            "Fizz\n",
            "13\n",
            "14\n",
            "Fizz Buzz\n"
          ]
        }
      ]
    },
    {
      "cell_type": "markdown",
      "source": [
        "**M1A02**_Problem statement 02"
      ],
      "metadata": {
        "id": "RoXsWA85OgZ6"
      }
    },
    {
      "cell_type": "code",
      "source": [
        "log = input(\"Enter transaction log: \")\n",
        "transactions = log.split()\n",
        "\n",
        "balance = 0\n",
        "\n",
        "for transaction in transactions:\n",
        "    if transaction[0] == 'D':\n",
        "        balance += int(transaction[2:])\n",
        "    elif transaction[0] == 'W':\n",
        "        balance -= int(transaction[2:])\n",
        "\n",
        "print(\"Net amount:\", balance)\n"
      ],
      "metadata": {
        "colab": {
          "base_uri": "https://localhost:8080/"
        },
        "id": "7RHSTpJjQdJN",
        "outputId": "39d99f1c-1bb0-4d1f-e1df-8b83f78ccfc0"
      },
      "execution_count": null,
      "outputs": [
        {
          "output_type": "stream",
          "name": "stdout",
          "text": [
            "Enter transaction log: D:100 W:10\n",
            "Net amount: 90\n"
          ]
        }
      ]
    },
    {
      "cell_type": "code",
      "source": [
        "log = input(\"Enter transaction log: \")\n",
        "transactions = log.split()\n",
        "\n",
        "balance = 0\n",
        "\n",
        "for transaction in transactions:\n",
        "    if transaction[0] == 'D':\n",
        "        balance += int(transaction[2:])\n",
        "    elif transaction[0] == 'W':\n",
        "        balance -= int(transaction[2:])\n",
        "\n",
        "print(\"Net amount:\", balance)\n",
        "\n"
      ],
      "metadata": {
        "colab": {
          "base_uri": "https://localhost:8080/"
        },
        "id": "e7HWEtm1RHSv",
        "outputId": "3bf25734-2922-4ec2-d7ef-4e4ed8d261e5"
      },
      "execution_count": null,
      "outputs": [
        {
          "output_type": "stream",
          "name": "stdout",
          "text": [
            "Enter transaction log: D:100 W:200 D:400\n",
            "Net amount: 300\n"
          ]
        }
      ]
    },
    {
      "cell_type": "markdown",
      "source": [
        "**M1A03**_Problem statement 03"
      ],
      "metadata": {
        "id": "XM6_i8EJRUi9"
      }
    },
    {
      "cell_type": "code",
      "source": [
        "num_calls = int(input(\"Enter the number of calls: \"))\n",
        "\n",
        "if num_calls <= 100:\n",
        "    monthly_bill = 200\n",
        "elif num_calls <= 150:\n",
        "    monthly_bill = 200 + 0.60 * (num_calls - 100)\n",
        "elif num_calls <= 200:\n",
        "    monthly_bill = 200 + 0.60 * 50 + 0.50 * (num_calls - 150)\n",
        "else:\n",
        "    monthly_bill = 200 + 0.60 * 50 + 0.50 * 50 + 0.40 * (num_calls - 200)\n",
        "\n",
        "print(\"Monthly telephone bill: Rs.\", monthly_bill)\n"
      ],
      "metadata": {
        "colab": {
          "base_uri": "https://localhost:8080/"
        },
        "id": "7oFP-mqBRw20",
        "outputId": "55d04978-3f61-446f-cfe9-7f753eee1930"
      },
      "execution_count": null,
      "outputs": [
        {
          "output_type": "stream",
          "name": "stdout",
          "text": [
            "Enter the number of calls: 75\n",
            "Monthly telephone bill: Rs. 200\n"
          ]
        }
      ]
    },
    {
      "cell_type": "code",
      "source": [
        "num_calls = int(input(\"Enter the number of calls: \"))\n",
        "\n",
        "if num_calls <= 100:\n",
        "    monthly_bill = 200\n",
        "elif num_calls <= 150:\n",
        "    monthly_bill = 200 + 0.60 * (num_calls - 100)\n",
        "elif num_calls <= 200:\n",
        "    monthly_bill = 200 + 0.60 * 50 + 0.50 * (num_calls - 150)\n",
        "else:\n",
        "    monthly_bill = 200 + 0.60 * 50 + 0.50 * 50 + 0.40 * (num_calls - 200)\n",
        "\n",
        "print(\"Monthly telephone bill: Rs.\", monthly_bill)\n"
      ],
      "metadata": {
        "colab": {
          "base_uri": "https://localhost:8080/"
        },
        "id": "wKGeUwiqS896",
        "outputId": "95084423-d12a-4e05-a42e-e8e2bcb05390"
      },
      "execution_count": null,
      "outputs": [
        {
          "output_type": "stream",
          "name": "stdout",
          "text": [
            "Enter the number of calls: 180\n",
            "Monthly telephone bill: Rs. 245.0\n"
          ]
        }
      ]
    },
    {
      "cell_type": "markdown",
      "source": [],
      "metadata": {
        "id": "LkHQqnDnBmG_"
      }
    }
  ]
}